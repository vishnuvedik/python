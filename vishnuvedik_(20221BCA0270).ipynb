{
  "nbformat": 4,
  "nbformat_minor": 0,
  "metadata": {
    "colab": {
      "provenance": [],
      "authorship_tag": "ABX9TyP44f+f9TwBobEnkLWvFw9Q",
      "include_colab_link": true
    },
    "kernelspec": {
      "name": "python3",
      "display_name": "Python 3"
    },
    "language_info": {
      "name": "python"
    }
  },
  "cells": [
    {
      "cell_type": "markdown",
      "metadata": {
        "id": "view-in-github",
        "colab_type": "text"
      },
      "source": [
        "<a href=\"https://colab.research.google.com/github/vishnuvedik/python/blob/main/vishnuvedik_(20221BCA0270).ipynb\" target=\"_parent\"><img src=\"https://colab.research.google.com/assets/colab-badge.svg\" alt=\"Open In Colab\"/></a>"
      ]
    },
    {
      "cell_type": "code",
      "execution_count": 1,
      "metadata": {
        "colab": {
          "base_uri": "https://localhost:8080/"
        },
        "id": "yQFOysgfaQnH",
        "outputId": "2acfd3ba-90c2-4093-b4ed-202b31a82fc2"
      },
      "outputs": [
        {
          "output_type": "execute_result",
          "data": {
            "text/plain": [
              "(3, 4, 5)"
            ]
          },
          "metadata": {},
          "execution_count": 1
        }
      ],
      "source": [
        "L = [3,4,5]\n",
        "iterator = iter(L)\n",
        "t = tuple(iterator)\n",
        "t"
      ]
    },
    {
      "cell_type": "code",
      "source": [
        "m = {'Jan': 1, 'Feb': 2, 'Mar': 3, 'Apr': 4, 'May': 5, 'Jun': 6, 'Jul': 7, 'Aug': 8, 'Sep': 9, 'Oct': 10, 'Nov': 11, 'Dec': 12}\n",
        "for key in m:\n",
        "  print(key, m[key])\n"
      ],
      "metadata": {
        "colab": {
          "base_uri": "https://localhost:8080/"
        },
        "id": "UFHjxyDuajFX",
        "outputId": "f5ceb557-b7c4-4335-91d0-f20b239f01fd"
      },
      "execution_count": 2,
      "outputs": [
        {
          "output_type": "stream",
          "name": "stdout",
          "text": [
            "Jan 1\n",
            "Feb 2\n",
            "Mar 3\n",
            "Apr 4\n",
            "May 5\n",
            "Jun 6\n",
            "Jul 7\n",
            "Aug 8\n",
            "Sep 9\n",
            "Oct 10\n",
            "Nov 11\n",
            "Dec 12\n"
          ]
        }
      ]
    },
    {
      "cell_type": "code",
      "source": [
        "l=[5,6,8]\n",
        "[2*i for i in l]"
      ],
      "metadata": {
        "colab": {
          "base_uri": "https://localhost:8080/"
        },
        "id": "8b1ZYjQ8asQd",
        "outputId": "b6e626d3-ff08-4ddc-e812-16b1ae53c82f"
      },
      "execution_count": 3,
      "outputs": [
        {
          "output_type": "execute_result",
          "data": {
            "text/plain": [
              "[10, 12, 16]"
            ]
          },
          "metadata": {},
          "execution_count": 3
        }
      ]
    },
    {
      "cell_type": "code",
      "source": [
        "l=[8,6,9]\n",
        "for i in l:\n",
        "  x=2*i\n",
        "  print(x)\n"
      ],
      "metadata": {
        "colab": {
          "base_uri": "https://localhost:8080/"
        },
        "id": "IPgUE7JpbReW",
        "outputId": "90aa55dd-1add-4f80-854d-ae8d9e039822"
      },
      "execution_count": 4,
      "outputs": [
        {
          "output_type": "stream",
          "name": "stdout",
          "text": [
            "16\n",
            "12\n",
            "18\n"
          ]
        }
      ]
    },
    {
      "cell_type": "code",
      "source": [
        "[2*i for i in l]"
      ],
      "metadata": {
        "colab": {
          "base_uri": "https://localhost:8080/"
        },
        "id": "JvuuuW10bULQ",
        "outputId": "6acfea01-139e-49f9-bf82-b792b5fa0696"
      },
      "execution_count": 5,
      "outputs": [
        {
          "output_type": "execute_result",
          "data": {
            "text/plain": [
              "[16, 12, 18]"
            ]
          },
          "metadata": {},
          "execution_count": 5
        }
      ]
    },
    {
      "cell_type": "code",
      "source": [
        "L = [('India', 'Rome'), ('ameria', 'Paris'), ('landon', 'Washington DC')]\n",
        "dict(iter(L))"
      ],
      "metadata": {
        "colab": {
          "base_uri": "https://localhost:8080/"
        },
        "id": "zHpVBM6nbbA-",
        "outputId": "29dd4369-2bc8-4dfd-da25-ab94858c322a"
      },
      "execution_count": 6,
      "outputs": [
        {
          "output_type": "execute_result",
          "data": {
            "text/plain": [
              "{'India': 'Rome', 'ameria': 'Paris', 'landon': 'Washington DC'}"
            ]
          },
          "metadata": {},
          "execution_count": 6
        }
      ]
    },
    {
      "cell_type": "code",
      "source": [
        "line_list=['presidency university\\n','compuer science department \\n','dept of bca \\n','\\n']\n",
        "stripped_list = [line.strip() for line in line_list]\n",
        "print(stripped_list)"
      ],
      "metadata": {
        "colab": {
          "base_uri": "https://localhost:8080/"
        },
        "id": "M0Ek9xXAbh0p",
        "outputId": "2d7877fd-d94c-4c34-ac65-f3fc594d0d7a"
      },
      "execution_count": 7,
      "outputs": [
        {
          "output_type": "stream",
          "name": "stdout",
          "text": [
            "['presidency university', 'compuer science department', 'dept of bca', '']\n"
          ]
        }
      ]
    },
    {
      "cell_type": "code",
      "source": [
        "seq1 = 'abc'\n",
        "seq2 = (2,6,4)\n",
        "[(x, y) for x in seq1 for y in seq2]"
      ],
      "metadata": {
        "colab": {
          "base_uri": "https://localhost:8080/"
        },
        "id": "BIrZVCKnb7CP",
        "outputId": "44c25a8e-6954-43e8-b429-5ceab87a2abd"
      },
      "execution_count": 8,
      "outputs": [
        {
          "output_type": "execute_result",
          "data": {
            "text/plain": [
              "[('a', 2),\n",
              " ('a', 6),\n",
              " ('a', 4),\n",
              " ('b', 2),\n",
              " ('b', 6),\n",
              " ('b', 4),\n",
              " ('c', 2),\n",
              " ('c', 6),\n",
              " ('c', 4)]"
            ]
          },
          "metadata": {},
          "execution_count": 8
        }
      ]
    },
    {
      "cell_type": "code",
      "source": [
        "def generate_ints(N):\n",
        "  for i in range(N):\n",
        "    yield i\n",
        "gen=generate_ints(6)\n",
        "next(gen)"
      ],
      "metadata": {
        "colab": {
          "base_uri": "https://localhost:8080/"
        },
        "id": "S4GVrqd5b_R1",
        "outputId": "7f387f13-b601-4156-ba88-78ad9c6d3f3d"
      },
      "execution_count": 11,
      "outputs": [
        {
          "output_type": "execute_result",
          "data": {
            "text/plain": [
              "0"
            ]
          },
          "metadata": {},
          "execution_count": 11
        }
      ]
    },
    {
      "cell_type": "code",
      "source": [
        "next(gen)"
      ],
      "metadata": {
        "colab": {
          "base_uri": "https://localhost:8080/"
        },
        "id": "B2DGk2zccK2H",
        "outputId": "e1b86724-2295-4f81-b5f6-2e3a57dadb9d"
      },
      "execution_count": 12,
      "outputs": [
        {
          "output_type": "execute_result",
          "data": {
            "text/plain": [
              "1"
            ]
          },
          "metadata": {},
          "execution_count": 12
        }
      ]
    },
    {
      "cell_type": "code",
      "source": [
        "next(gen)"
      ],
      "metadata": {
        "colab": {
          "base_uri": "https://localhost:8080/"
        },
        "id": "gubm-4bIcSuS",
        "outputId": "7942a3a4-3969-4169-adc4-9335768cccbe"
      },
      "execution_count": 13,
      "outputs": [
        {
          "output_type": "execute_result",
          "data": {
            "text/plain": [
              "2"
            ]
          },
          "metadata": {},
          "execution_count": 13
        }
      ]
    },
    {
      "cell_type": "code",
      "source": [
        "def counter(maximum):\n",
        "    i = 0\n",
        "    while i < maximum:\n",
        "        val = (yield i)\n",
        "        # If value provided, change counter\n",
        "        if val is not None:\n",
        "            i = val\n",
        "        else:\n",
        "            i += 1\n",
        "\n",
        "\n",
        "\n",
        "it = counter(20)\n",
        "next(it)"
      ],
      "metadata": {
        "colab": {
          "base_uri": "https://localhost:8080/"
        },
        "id": "MFU4kTy3cUG1",
        "outputId": "25c5ab7c-56bf-4919-f0a9-29953ff411d5"
      },
      "execution_count": 14,
      "outputs": [
        {
          "output_type": "execute_result",
          "data": {
            "text/plain": [
              "0"
            ]
          },
          "metadata": {},
          "execution_count": 14
        }
      ]
    },
    {
      "cell_type": "code",
      "source": [
        "next(it)"
      ],
      "metadata": {
        "colab": {
          "base_uri": "https://localhost:8080/"
        },
        "id": "SxyY9gXKcUKA",
        "outputId": "a290b5fb-0b03-47ec-8b1b-6f2b36c7f854"
      },
      "execution_count": 18,
      "outputs": [
        {
          "output_type": "execute_result",
          "data": {
            "text/plain": [
              "2"
            ]
          },
          "metadata": {},
          "execution_count": 18
        }
      ]
    },
    {
      "cell_type": "code",
      "source": [
        "it.send(8)"
      ],
      "metadata": {
        "colab": {
          "base_uri": "https://localhost:8080/"
        },
        "id": "fIk2XU0qckY5",
        "outputId": "9461c219-ff21-4187-a95f-34995218b1e7"
      },
      "execution_count": 19,
      "outputs": [
        {
          "output_type": "execute_result",
          "data": {
            "text/plain": [
              "8"
            ]
          },
          "metadata": {},
          "execution_count": 19
        }
      ]
    },
    {
      "cell_type": "code",
      "source": [
        "it.send(18)"
      ],
      "metadata": {
        "colab": {
          "base_uri": "https://localhost:8080/"
        },
        "id": "qZnV9kDGcmaU",
        "outputId": "6254331a-3c43-430c-8350-8e5edeb6767c"
      },
      "execution_count": 20,
      "outputs": [
        {
          "output_type": "execute_result",
          "data": {
            "text/plain": [
              "18"
            ]
          },
          "metadata": {},
          "execution_count": 20
        }
      ]
    },
    {
      "cell_type": "code",
      "source": [
        "next(it)"
      ],
      "metadata": {
        "colab": {
          "base_uri": "https://localhost:8080/"
        },
        "id": "7iwVUuxDcqon",
        "outputId": "27b30e26-cd0a-471e-e01d-a465394ac37d"
      },
      "execution_count": 21,
      "outputs": [
        {
          "output_type": "execute_result",
          "data": {
            "text/plain": [
              "19"
            ]
          },
          "metadata": {},
          "execution_count": 21
        }
      ]
    },
    {
      "cell_type": "code",
      "source": [
        "def upper(s):\n",
        "  return s.upper()\n",
        "\n",
        "list(map(upper, ['sentence', 'fragment']))"
      ],
      "metadata": {
        "colab": {
          "base_uri": "https://localhost:8080/"
        },
        "id": "6FjVngf4cvEM",
        "outputId": "9fafaaef-ed3f-4f16-9b8e-6858dd62596a"
      },
      "execution_count": 22,
      "outputs": [
        {
          "output_type": "execute_result",
          "data": {
            "text/plain": [
              "['SENTENCE', 'FRAGMENT']"
            ]
          },
          "metadata": {},
          "execution_count": 22
        }
      ]
    },
    {
      "cell_type": "code",
      "source": [
        "[upper(s) for s in ['sentence', 'fragment']]"
      ],
      "metadata": {
        "colab": {
          "base_uri": "https://localhost:8080/"
        },
        "id": "js81NdszczlP",
        "outputId": "71a199ef-c6b2-4663-f036-df50a9d74910"
      },
      "execution_count": 23,
      "outputs": [
        {
          "output_type": "execute_result",
          "data": {
            "text/plain": [
              "['SENTENCE', 'FRAGMENT']"
            ]
          },
          "metadata": {},
          "execution_count": 23
        }
      ]
    },
    {
      "cell_type": "code",
      "source": [
        "def is_even(x):\n",
        "  return (x % 2) == 0\n",
        "list(filter(is_even, range(20)))"
      ],
      "metadata": {
        "colab": {
          "base_uri": "https://localhost:8080/"
        },
        "id": "nfvFhpERc95m",
        "outputId": "d3a0c755-0850-4540-f38e-c55a50e320da"
      },
      "execution_count": 24,
      "outputs": [
        {
          "output_type": "execute_result",
          "data": {
            "text/plain": [
              "[0, 2, 4, 6, 8, 10, 12, 14, 16, 18]"
            ]
          },
          "metadata": {},
          "execution_count": 24
        }
      ]
    },
    {
      "cell_type": "code",
      "source": [
        "list(x for x in range(20) if is_even(x))"
      ],
      "metadata": {
        "colab": {
          "base_uri": "https://localhost:8080/"
        },
        "id": "Szp1TmvGdDhd",
        "outputId": "90c3a15b-edf1-4420-e4f9-14b6a73d46e6"
      },
      "execution_count": 25,
      "outputs": [
        {
          "output_type": "execute_result",
          "data": {
            "text/plain": [
              "[0, 2, 4, 6, 8, 10, 12, 14, 16, 18]"
            ]
          },
          "metadata": {},
          "execution_count": 25
        }
      ]
    },
    {
      "cell_type": "code",
      "source": [
        "for item in enumerate(['A', 'B', 'C']):\n",
        "  print(item)\n"
      ],
      "metadata": {
        "colab": {
          "base_uri": "https://localhost:8080/"
        },
        "id": "nQSEVZ5TdHZv",
        "outputId": "8a5029bc-5cc9-4d3d-8366-bcdd16dea656"
      },
      "execution_count": 26,
      "outputs": [
        {
          "output_type": "stream",
          "name": "stdout",
          "text": [
            "(0, 'A')\n",
            "(1, 'B')\n",
            "(2, 'C')\n"
          ]
        }
      ]
    },
    {
      "cell_type": "code",
      "source": [
        "for item in enumerate(['X', 'Y', 'Z']):\n",
        "  print(item)\n"
      ],
      "metadata": {
        "colab": {
          "base_uri": "https://localhost:8080/"
        },
        "id": "MJmpVRq2dHdQ",
        "outputId": "ad9f6188-4912-419c-b489-4eb9618a36ac"
      },
      "execution_count": 27,
      "outputs": [
        {
          "output_type": "stream",
          "name": "stdout",
          "text": [
            "(0, 'X')\n",
            "(1, 'Y')\n",
            "(2, 'Z')\n"
          ]
        }
      ]
    },
    {
      "cell_type": "code",
      "source": [
        "import random\n",
        "rand_list = random.sample(range(20000), 9)\n",
        "rand_list"
      ],
      "metadata": {
        "colab": {
          "base_uri": "https://localhost:8080/"
        },
        "id": "kCM-FpcCdRYU",
        "outputId": "1a88e01b-6343-4a13-f51b-afc150a08ec7"
      },
      "execution_count": 28,
      "outputs": [
        {
          "output_type": "execute_result",
          "data": {
            "text/plain": [
              "[9366, 3727, 14774, 5761, 4232, 19058, 12480, 13044, 15001]"
            ]
          },
          "metadata": {},
          "execution_count": 28
        }
      ]
    },
    {
      "cell_type": "code",
      "source": [
        "sorted(rand_list)"
      ],
      "metadata": {
        "colab": {
          "base_uri": "https://localhost:8080/"
        },
        "id": "MFi18rWLdVFi",
        "outputId": "43207610-2cbc-410c-c9a6-2570df5563a2"
      },
      "execution_count": 29,
      "outputs": [
        {
          "output_type": "execute_result",
          "data": {
            "text/plain": [
              "[3727, 4232, 5761, 9366, 12480, 13044, 14774, 15001, 19058]"
            ]
          },
          "metadata": {},
          "execution_count": 29
        }
      ]
    },
    {
      "cell_type": "code",
      "source": [
        "sorted(rand_list, reverse=True)"
      ],
      "metadata": {
        "colab": {
          "base_uri": "https://localhost:8080/"
        },
        "id": "Wj75WVAnddQw",
        "outputId": "10079581-5108-42e5-b935-16638db7cda7"
      },
      "execution_count": 30,
      "outputs": [
        {
          "output_type": "execute_result",
          "data": {
            "text/plain": [
              "[19058, 15001, 14774, 13044, 12480, 9366, 5761, 4232, 3727]"
            ]
          },
          "metadata": {},
          "execution_count": 30
        }
      ]
    },
    {
      "cell_type": "code",
      "source": [
        "zip(['x','y','z'], (2,4,6,))"
      ],
      "metadata": {
        "colab": {
          "base_uri": "https://localhost:8080/"
        },
        "id": "q1sUZNs-dhgV",
        "outputId": "13067b5f-4f74-4987-a36a-d6bd37e5c363"
      },
      "execution_count": 31,
      "outputs": [
        {
          "output_type": "execute_result",
          "data": {
            "text/plain": [
              "<zip at 0x78d17511dc80>"
            ]
          },
          "metadata": {},
          "execution_count": 31
        }
      ]
    },
    {
      "cell_type": "code",
      "source": [
        "from functools import partial\n",
        "\n",
        "\n",
        "def power(a, b):\n",
        "\treturn a**b\n",
        "\n",
        "\n",
        "# partial functions\n",
        "pow2 = partial(power, b=2)\n",
        "pow4 = partial(power, b=4)\n",
        "power_of_5 = partial(power, 5)\n",
        "\n",
        "print(power(5, 3))\n",
        "print(pow2(5))\n",
        "print(pow4(3))\n",
        "print(power_of_5(6))\n",
        "\n",
        "print('Function used in partial function pow2 :', pow2.func)\n",
        "print('Default keywords for pow2 :', pow2.keywords)\n",
        "print('Default arguments for power_of_5 :', power_of_5.args)\n"
      ],
      "metadata": {
        "colab": {
          "base_uri": "https://localhost:8080/"
        },
        "id": "Gj-aCP7Adrhc",
        "outputId": "633af1d0-0ed2-4dd5-ca33-fc9ee0d5826a"
      },
      "execution_count": 32,
      "outputs": [
        {
          "output_type": "stream",
          "name": "stdout",
          "text": [
            "125\n",
            "25\n",
            "81\n",
            "15625\n",
            "Function used in partial function pow2 : <function power at 0x78d1750e2170>\n",
            "Default keywords for pow2 : {'b': 2}\n",
            "Default arguments for power_of_5 : (5,)\n"
          ]
        }
      ]
    },
    {
      "cell_type": "code",
      "source": [
        "from functools import partialmethod\n",
        "\n",
        "class Demo:\n",
        "\tdef __init__(self):\n",
        "\t\tself.color = 'black'\n",
        "\n",
        "\tdef _color(self, type):\n",
        "\t\tself.color = type\n",
        "\n",
        "\tset_red = partialmethod(_color, type='red')\n",
        "\tset_blue = partialmethod(_color, type='blue')\n",
        "\tset_green = partialmethod(_color, type='green')\n",
        "\n",
        "\n",
        "obj = Demo()\n",
        "print(obj.color)\n",
        "\n",
        "obj.set_blue()\n",
        "print(obj.color)\n",
        "\n",
        "obj.set_red()\n",
        "print(obj.color)\n",
        "\n",
        "obj.set_green()\n",
        "print(obj.color)"
      ],
      "metadata": {
        "colab": {
          "base_uri": "https://localhost:8080/"
        },
        "id": "8upAPb9hd15t",
        "outputId": "20216e3b-dcd0-4000-9b8b-330aa0b18150"
      },
      "execution_count": 33,
      "outputs": [
        {
          "output_type": "stream",
          "name": "stdout",
          "text": [
            "black\n",
            "blue\n",
            "red\n",
            "green\n"
          ]
        }
      ]
    },
    {
      "cell_type": "code",
      "source": [
        "from functools import cmp_to_key\n",
        "\n",
        "def cmp_fun(a, b):\n",
        "\tif a[-1] > b[-1]:\n",
        "\t\treturn 1\n",
        "\telif a[-1] < b[-1]:\n",
        "\t\treturn -1\n",
        "\telse:\n",
        "\t\treturn 0\n",
        "\n",
        "list1 = ['X', 'Y', 'R']\n",
        "l = sorted(list1, key = cmp_to_key(cmp_fun))\n",
        "print('sorted list :', l)\n"
      ],
      "metadata": {
        "colab": {
          "base_uri": "https://localhost:8080/"
        },
        "id": "_YkcpGaieJWb",
        "outputId": "fa5fdd6d-e49f-4166-aef0-55443e6242fa"
      },
      "execution_count": 34,
      "outputs": [
        {
          "output_type": "stream",
          "name": "stdout",
          "text": [
            "sorted list : ['R', 'X', 'Y']\n"
          ]
        }
      ]
    },
    {
      "cell_type": "code",
      "source": [
        "from functools import reduce\n",
        "list1 = [4, 8, 5, 4, 7, 6]\n",
        "sum_of_list1 = reduce(lambda a, b:a + b, list1)\n",
        "\n",
        "list2 = [\"abc\", \"xyz\", \"def\"]\n",
        "max_of_list2 = reduce(lambda a, b:a if a>b else b, list2)\n",
        "\n",
        "print('Sum of list1 :', sum_of_list1)\n",
        "print('Maximum of list2 :', max_of_list2)"
      ],
      "metadata": {
        "colab": {
          "base_uri": "https://localhost:8080/"
        },
        "id": "kbOdaOIHeRw7",
        "outputId": "8b4e62ec-a403-4d78-ab1d-b86c6b05b32c"
      },
      "execution_count": 35,
      "outputs": [
        {
          "output_type": "stream",
          "name": "stdout",
          "text": [
            "Sum of list1 : 34\n",
            "Maximum of list2 : xyz\n"
          ]
        }
      ]
    },
    {
      "cell_type": "code",
      "source": [
        "from functools import total_ordering\n",
        "\n",
        "@total_ordering\n",
        "class N:\n",
        "\tdef __init__(self, value):\n",
        "\t\tself.value = value\n",
        "\tdef __eq__(self, other):\n",
        "\t\treturn self.value == other.value\n",
        "\n",
        "\tdef __lt__(self, other):\n",
        "\t\treturn self.value > other.value\n",
        "\n",
        "\n",
        "print('8 > 2 :', N(8)>N(2))\n",
        "print('4 < 1 :', N(4)<N(1))\n",
        "print('4 <= 7 :', N(4)<= N(7))\n",
        "print('9 >= 10 :', N(9)>= N(10))\n",
        "print('10 == 10 :', N(10)== N(10))\n"
      ],
      "metadata": {
        "colab": {
          "base_uri": "https://localhost:8080/"
        },
        "id": "6IUbmHczebCG",
        "outputId": "ef4f59db-09e7-4634-c14f-b91574fb2f0c"
      },
      "execution_count": 36,
      "outputs": [
        {
          "output_type": "stream",
          "name": "stdout",
          "text": [
            "8 > 2 : False\n",
            "4 < 1 : True\n",
            "4 <= 7 : False\n",
            "9 >= 10 : True\n",
            "10 == 10 : True\n"
          ]
        }
      ]
    },
    {
      "cell_type": "code",
      "source": [
        "from itertools import count\n",
        "\n",
        "for number in count(start=1, step=2):\n",
        "\tif number > 40:\n",
        "\t\tbreak\n",
        "\tprint(number)\n"
      ],
      "metadata": {
        "colab": {
          "base_uri": "https://localhost:8080/"
        },
        "id": "uhzCwAwTefZQ",
        "outputId": "810d6524-6154-4478-d8ee-8b30a32fd082"
      },
      "execution_count": 37,
      "outputs": [
        {
          "output_type": "stream",
          "name": "stdout",
          "text": [
            "1\n",
            "3\n",
            "5\n",
            "7\n",
            "9\n",
            "11\n",
            "13\n",
            "15\n",
            "17\n",
            "19\n",
            "21\n",
            "23\n",
            "25\n",
            "27\n",
            "29\n",
            "31\n",
            "33\n",
            "35\n",
            "37\n",
            "39\n"
          ]
        }
      ]
    },
    {
      "cell_type": "code",
      "source": [
        "import itertools\n",
        "for i in itertools.count(5, 5):\n",
        "\tif i == 35:\n",
        "\t\tbreak\n",
        "\telse:\n",
        "\t\tprint(i, end=\" \")\n"
      ],
      "metadata": {
        "colab": {
          "base_uri": "https://localhost:8080/"
        },
        "id": "kFM8PefrehNJ",
        "outputId": "bd71ddee-39e9-414a-d100-b32172e64c4e"
      },
      "execution_count": 38,
      "outputs": [
        {
          "output_type": "stream",
          "name": "stdout",
          "text": [
            "5 10 15 20 25 30 "
          ]
        }
      ]
    },
    {
      "cell_type": "code",
      "source": [
        "import itertools\n",
        "\n",
        "count = 0\n",
        "\n",
        "for i in itertools.cycle('XY'):\n",
        "\tif count > 8:\n",
        "\t\tbreak\n",
        "\telse:\n",
        "\t\tprint(i, end=\" \")\n",
        "\t\tcount += 1"
      ],
      "metadata": {
        "colab": {
          "base_uri": "https://localhost:8080/"
        },
        "id": "u1NKlzP2enIB",
        "outputId": "3f83481d-554f-4251-c8c0-063fd8a301f4"
      },
      "execution_count": 39,
      "outputs": [
        {
          "output_type": "stream",
          "name": "stdout",
          "text": [
            "X Y X Y X Y X Y X "
          ]
        }
      ]
    },
    {
      "cell_type": "code",
      "source": [
        "import itertools\n",
        "\n",
        "l = ['BCA', 'MCA', 'EEE']\n",
        "\n",
        "iterators = itertools.cycle(l)\n",
        "\n",
        "for i in range(8):\n",
        "\n",
        "\tprint(next(iterators), end=\" \")"
      ],
      "metadata": {
        "colab": {
          "base_uri": "https://localhost:8080/"
        },
        "id": "MYyU8njIesiF",
        "outputId": "2dad10fe-609d-4c52-eb8e-e24c29913085"
      },
      "execution_count": 40,
      "outputs": [
        {
          "output_type": "stream",
          "name": "stdout",
          "text": [
            "BCA MCA EEE BCA MCA EEE BCA MCA "
          ]
        }
      ]
    },
    {
      "cell_type": "code",
      "source": [
        "import itertools\n",
        "\n",
        "print(\"Printing the numbers repeatedly : \")\n",
        "print(list(itertools.repeat(25, 9)))"
      ],
      "metadata": {
        "colab": {
          "base_uri": "https://localhost:8080/"
        },
        "id": "vhKQ8hFZezSG",
        "outputId": "ebbf423e-b855-4793-a71c-08103a3975a9"
      },
      "execution_count": 41,
      "outputs": [
        {
          "output_type": "stream",
          "name": "stdout",
          "text": [
            "Printing the numbers repeatedly : \n",
            "[25, 25, 25, 25, 25, 25, 25, 25, 25]\n"
          ]
        }
      ]
    },
    {
      "cell_type": "code",
      "source": [
        "from itertools import product\n",
        "\n",
        "print(\"The cartesian product using repeat:\")\n",
        "print(list(product([1, 2], repeat=2)))\n",
        "print()\n",
        "\n",
        "print(\"The cartesian product of the containers:\")\n",
        "print(list(product(['BCA', 'CSE', 'EEE'], '2')))\n",
        "print()\n",
        "\n",
        "print(\"The cartesian product of the containers:\")\n",
        "print(list(product('AB', [4, 6])))\n"
      ],
      "metadata": {
        "colab": {
          "base_uri": "https://localhost:8080/"
        },
        "id": "5F97ny0_e3DN",
        "outputId": "5b1200c0-2dbe-443b-9611-af7d4111bb46"
      },
      "execution_count": 42,
      "outputs": [
        {
          "output_type": "stream",
          "name": "stdout",
          "text": [
            "The cartesian product using repeat:\n",
            "[(1, 1), (1, 2), (2, 1), (2, 2)]\n",
            "\n",
            "The cartesian product of the containers:\n",
            "[('BCA', '2'), ('CSE', '2'), ('EEE', '2')]\n",
            "\n",
            "The cartesian product of the containers:\n",
            "[('A', 4), ('A', 6), ('B', 4), ('B', 6)]\n"
          ]
        }
      ]
    },
    {
      "cell_type": "code",
      "source": [
        "from itertools import permutations\n",
        "\n",
        "print(\"All the permutations of the given list is:\")\n",
        "print(list(permutations([3, 'Computer'], 2)))\n",
        "print()\n",
        "\n",
        "print(\"All the permutations of the given string is:\")\n",
        "print(list(permutations('XY')))\n",
        "print()\n",
        "\n",
        "print(\"All the permutations of the given container is:\")\n",
        "print(list(permutations(range(6), 2)))\n"
      ],
      "metadata": {
        "colab": {
          "base_uri": "https://localhost:8080/"
        },
        "id": "G2bUSC_KfAEg",
        "outputId": "4a4d43b0-db1b-4834-c74e-40e48f7c1169"
      },
      "execution_count": 43,
      "outputs": [
        {
          "output_type": "stream",
          "name": "stdout",
          "text": [
            "All the permutations of the given list is:\n",
            "[(3, 'Computer'), ('Computer', 3)]\n",
            "\n",
            "All the permutations of the given string is:\n",
            "[('X', 'Y'), ('Y', 'X')]\n",
            "\n",
            "All the permutations of the given container is:\n",
            "[(0, 1), (0, 2), (0, 3), (0, 4), (0, 5), (1, 0), (1, 2), (1, 3), (1, 4), (1, 5), (2, 0), (2, 1), (2, 3), (2, 4), (2, 5), (3, 0), (3, 1), (3, 2), (3, 4), (3, 5), (4, 0), (4, 1), (4, 2), (4, 3), (4, 5), (5, 0), (5, 1), (5, 2), (5, 3), (5, 4)]\n"
          ]
        }
      ]
    },
    {
      "cell_type": "code",
      "source": [
        "from itertools import combinations\n",
        "\n",
        "print (\"All the combination of list in sorted order(without replacement) is:\")\n",
        "print(list(combinations(['A', 2], 2)))\n",
        "print()\n",
        "\n",
        "print (\"All the combination of string in sorted order(without replacement) is:\")\n",
        "print(list(combinations('AB', 2)))\n",
        "print()\n",
        "\n",
        "print (\"All the combination of list in sorted order(without replacement) is:\")\n",
        "print(list(combinations(range(2), 1)))"
      ],
      "metadata": {
        "colab": {
          "base_uri": "https://localhost:8080/"
        },
        "id": "__Ih6_aXfB5K",
        "outputId": "0c83a910-0be4-40f5-95ac-39044c75c3e4"
      },
      "execution_count": 44,
      "outputs": [
        {
          "output_type": "stream",
          "name": "stdout",
          "text": [
            "All the combination of list in sorted order(without replacement) is:\n",
            "[('A', 2)]\n",
            "\n",
            "All the combination of string in sorted order(without replacement) is:\n",
            "[('A', 'B')]\n",
            "\n",
            "All the combination of list in sorted order(without replacement) is:\n",
            "[(0,), (1,)]\n"
          ]
        }
      ]
    },
    {
      "cell_type": "code",
      "source": [
        "from itertools import combinations_with_replacement\n",
        "\n",
        "print(\"All the combination of string in sorted order(with replacement) is:\")\n",
        "print(list(combinations_with_replacement(\"AB\", 3)))\n",
        "print()\n",
        "\n",
        "print(\"All the combination of list in sorted order(with replacement) is:\")\n",
        "print(list(combinations_with_replacement([1, 3], 3)))\n",
        "print()\n",
        "\n",
        "print(\"All the combination of container in sorted order(with replacement) is:\")\n",
        "print(list(combinations_with_replacement(range(3), 1)))\n"
      ],
      "metadata": {
        "colab": {
          "base_uri": "https://localhost:8080/"
        },
        "id": "GLBjPc-WfHny",
        "outputId": "6dff3566-2edc-43bf-fc30-c4ecfdcda165"
      },
      "execution_count": 45,
      "outputs": [
        {
          "output_type": "stream",
          "name": "stdout",
          "text": [
            "All the combination of string in sorted order(with replacement) is:\n",
            "[('A', 'A', 'A'), ('A', 'A', 'B'), ('A', 'B', 'B'), ('B', 'B', 'B')]\n",
            "\n",
            "All the combination of list in sorted order(with replacement) is:\n",
            "[(1, 1, 1), (1, 1, 3), (1, 3, 3), (3, 3, 3)]\n",
            "\n",
            "All the combination of container in sorted order(with replacement) is:\n",
            "[(0,), (1,), (2,)]\n"
          ]
        }
      ]
    },
    {
      "cell_type": "code",
      "source": [
        "import itertools\n",
        "import operator\n",
        "\n",
        "li1 = [2,3,4,6]\n",
        "\n",
        "print(\"The sum after each iteration is : \", end=\"\")\n",
        "print(list(itertools.accumulate(li1)))\n",
        "\n",
        "\n",
        "print(\"The product after each iteration is : \", end=\"\")\n",
        "print(list(itertools.accumulate(li1, operator.mul)))\n",
        "\n",
        "\n",
        "print(\"The sum after each iteration is : \", end=\"\")\n",
        "print(list(itertools.accumulate(li1)))\n",
        "\n",
        "\n",
        "print(\"The product after each iteration is : \", end=\"\")\n",
        "print(list(itertools.accumulate(li1, operator.mul)))"
      ],
      "metadata": {
        "colab": {
          "base_uri": "https://localhost:8080/"
        },
        "id": "LDnYGiggfMIU",
        "outputId": "07f8665d-366a-4894-bd94-459fcba57692"
      },
      "execution_count": 46,
      "outputs": [
        {
          "output_type": "stream",
          "name": "stdout",
          "text": [
            "The sum after each iteration is : [2, 5, 9, 15]\n",
            "The product after each iteration is : [2, 6, 24, 144]\n",
            "The sum after each iteration is : [2, 5, 9, 15]\n",
            "The product after each iteration is : [2, 6, 24, 144]\n"
          ]
        }
      ]
    },
    {
      "cell_type": "code",
      "source": [
        "import itertools\n",
        "li1 = [1, 3,5,7]\n",
        "\n",
        "li2 = [1,3,4,6]\n",
        "\n",
        "li3 = [10,1,13,15]\n",
        "\n",
        "print(\"All values in mentioned chain are : \", end=\"\")\n",
        "print(list(itertools.chain(li1, li2, li3)))"
      ],
      "metadata": {
        "colab": {
          "base_uri": "https://localhost:8080/"
        },
        "id": "ZH5TNqX2fWTU",
        "outputId": "7308230a-8211-48a5-81f2-511a0964e030"
      },
      "execution_count": 47,
      "outputs": [
        {
          "output_type": "stream",
          "name": "stdout",
          "text": [
            "All values in mentioned chain are : [1, 3, 5, 7, 1, 3, 4, 6, 10, 1, 13, 15]\n"
          ]
        }
      ]
    },
    {
      "cell_type": "code",
      "source": [
        "import itertools\n",
        "\n",
        "\n",
        "li1 = [1,3,4,5,]\n",
        "\n",
        "li2 = [1,4,5,6]\n",
        "\n",
        "li3 = [8,6,7,8]\n",
        "\n",
        "li4 = [li1, li2, li3]\n",
        "\n",
        "print (\"All values in mentioned chain are : \", end =\"\")\n",
        "print (list(itertools.chain.from_iterable(li4)))"
      ],
      "metadata": {
        "colab": {
          "base_uri": "https://localhost:8080/"
        },
        "id": "BLGNo_ovfazT",
        "outputId": "03657767-8e97-4627-ab2d-8580c9e77773"
      },
      "execution_count": 48,
      "outputs": [
        {
          "output_type": "stream",
          "name": "stdout",
          "text": [
            "All values in mentioned chain are : [1, 3, 4, 5, 1, 4, 5, 6, 8, 6, 7, 8]\n"
          ]
        }
      ]
    },
    {
      "cell_type": "code",
      "source": [
        "import itertools\n",
        "\n",
        "print(\"The compressed values in string are : \", end=\"\")\n",
        "print(list(itertools.compress('GEEKSFORGEEKS', [1, 0, 0, 0, 0, 1, 0, 0, 1, 0, 0, 0, 0])))\n"
      ],
      "metadata": {
        "colab": {
          "base_uri": "https://localhost:8080/"
        },
        "id": "4FI9ECY0fex_",
        "outputId": "b610e1e7-f9e9-4b7d-8d25-12b26bf0d65b"
      },
      "execution_count": 49,
      "outputs": [
        {
          "output_type": "stream",
          "name": "stdout",
          "text": [
            "The compressed values in string are : ['G', 'F', 'G']\n"
          ]
        }
      ]
    },
    {
      "cell_type": "code",
      "source": [
        "import itertools\n",
        "\n",
        "li = [4,5,6,8,9]\n",
        "print (\"The values after condition returns false : \", end =\"\")\n",
        "print (list(itertools.dropwhile(lambda x : x % 2 == 0, li)))\n"
      ],
      "metadata": {
        "colab": {
          "base_uri": "https://localhost:8080/"
        },
        "id": "_259Kdx4ff7r",
        "outputId": "368bb088-5233-41e1-a74c-fcaa73151310"
      },
      "execution_count": 50,
      "outputs": [
        {
          "output_type": "stream",
          "name": "stdout",
          "text": [
            "The values after condition returns false : [5, 6, 8, 9]\n"
          ]
        }
      ]
    },
    {
      "cell_type": "code",
      "source": [
        "import itertools\n",
        "li = [2, 4, 5, 7, 8]\n",
        "print (\"The values after condition returns false : \", end =\"\")\n",
        "print (list(itertools.dropwhile(lambda x : x % 2 == 0, li)))\n",
        "import itertools\n",
        "\n",
        "li = [ (1, 10, 5), (8, 4, 1), (5, 5, 9), (11, 37, 1) ]\n",
        "\n",
        "print (\"The values acc. to function are : \", end =\"\")\n",
        "print (list(itertools.starmap(min, li)))\n"
      ],
      "metadata": {
        "colab": {
          "base_uri": "https://localhost:8080/"
        },
        "id": "ZwvtN0KjfvpW",
        "outputId": "11ef7bae-53f4-4bb0-9214-21c7115eb65d"
      },
      "execution_count": 54,
      "outputs": [
        {
          "output_type": "stream",
          "name": "stdout",
          "text": [
            "The values after condition returns false : [5, 7, 8]\n",
            "The values acc. to function are : [1, 1, 5, 1]\n"
          ]
        }
      ]
    },
    {
      "cell_type": "code",
      "source": [
        "import itertools\n",
        "\n",
        "li = [2, 4, 5, 7, 8]\n",
        "\n",
        "print (\"The values that return false to function are : \", end =\"\")\n",
        "print (list(itertools.filterfalse(lambda x : x % 2 == 0, li)))\n"
      ],
      "metadata": {
        "colab": {
          "base_uri": "https://localhost:8080/"
        },
        "id": "0vJ6AWQQf4GL",
        "outputId": "dffd2604-e7c8-4df3-d972-e7e9a8d62055"
      },
      "execution_count": 52,
      "outputs": [
        {
          "output_type": "stream",
          "name": "stdout",
          "text": [
            "The values that return false to function are : [5, 7]\n"
          ]
        }
      ]
    },
    {
      "cell_type": "code",
      "source": [
        "import itertools\n",
        "li = [2,4,6,7,8,9,10,30]\n",
        "print (\"The sliced list values are : \", end =\"\")\n",
        "print (list(itertools.islice(li, 1, 6, 2)))\n"
      ],
      "metadata": {
        "colab": {
          "base_uri": "https://localhost:8080/"
        },
        "id": "tKep-aTTf-89",
        "outputId": "b810dc48-72af-422b-91e5-099ec86311c7"
      },
      "execution_count": 53,
      "outputs": [
        {
          "output_type": "stream",
          "name": "stdout",
          "text": [
            "The sliced list values are : [4, 7, 9]\n"
          ]
        }
      ]
    },
    {
      "cell_type": "code",
      "source": [
        "import itertools\n",
        "\n",
        "li = [2, 4, 6, 7, 8, 10, 20, 30]\n",
        "print (\"The list values till 1st false value are : \", end =\"\")\n",
        "print (list(itertools.takewhile(lambda x : x % 2 == 0, li )))\n",
        "import itertools\n",
        "\n",
        "li = [2, 4, 6, 7, 8, 10, 20, 30]\n",
        "print (\"The list values till 1st false value are : \", end =\"\")\n",
        "print (list(itertools.takewhile(lambda x : x % 2 == 0, li )))\n"
      ],
      "metadata": {
        "colab": {
          "base_uri": "https://localhost:8080/"
        },
        "id": "TjSeCVjbgAb_",
        "outputId": "6ed23850-dd44-4bdf-bd74-718149b670ca"
      },
      "execution_count": 55,
      "outputs": [
        {
          "output_type": "stream",
          "name": "stdout",
          "text": [
            "The list values till 1st false value are : [2, 4, 6]\n",
            "The list values till 1st false value are : [2, 4, 6]\n"
          ]
        }
      ]
    },
    {
      "cell_type": "code",
      "source": [
        "import itertools\n",
        "\n",
        "li = [2, 4, 6, 7, 8, 10, 20]\n",
        "\n",
        "iti = iter(li)\n",
        "\n",
        "it = itertools.tee(iti, 3)\n",
        "\n",
        "print(\"The iterators are : \")\n",
        "for i in range(0, 3):\n",
        "\tprint(list(it[i]))\n"
      ],
      "metadata": {
        "colab": {
          "base_uri": "https://localhost:8080/"
        },
        "id": "o_gInkSwgJZn",
        "outputId": "800a1438-84d6-4b67-b799-e0a0598196ed"
      },
      "execution_count": 56,
      "outputs": [
        {
          "output_type": "stream",
          "name": "stdout",
          "text": [
            "The iterators are : \n",
            "[2, 4, 6, 7, 8, 10, 20]\n",
            "[2, 4, 6, 7, 8, 10, 20]\n",
            "[2, 4, 6, 7, 8, 10, 20]\n"
          ]
        }
      ]
    },
    {
      "cell_type": "code",
      "source": [
        "import itertools\n",
        "\n",
        "print(\"The combined values of iterables is : \")\n",
        "print(*(itertools.zip_longest('Peiec', 'rsdny', fillvalue='_')))\n"
      ],
      "metadata": {
        "colab": {
          "base_uri": "https://localhost:8080/"
        },
        "id": "vA4N49jMgQ00",
        "outputId": "dfb85d08-0a33-41ea-b727-ea6dde68be5b"
      },
      "execution_count": 57,
      "outputs": [
        {
          "output_type": "stream",
          "name": "stdout",
          "text": [
            "The combined values of iterables is : \n",
            "('P', 'r') ('e', 's') ('i', 'd') ('e', 'n') ('c', 'y')\n"
          ]
        }
      ]
    }
  ]
}